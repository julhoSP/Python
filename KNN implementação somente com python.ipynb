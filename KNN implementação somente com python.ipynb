{
 "cells": [
  {
   "cell_type": "code",
   "execution_count": 1,
   "metadata": {},
   "outputs": [],
   "source": [
    "# Regra geral para determinar o K = Sqrt(n) é o padrão depois realize testes\n",
    "# onde \"n\" é a quantidade de exemplos de treinamento\n",
    "# K muito pequeno é sucetivel a qualquer ruido\n",
    "# K muito grande torna o processo computacionalmente caro\n",
    "# Essa abortagem de K = Sqrt(n) é um padrão"
   ]
  },
  {
   "cell_type": "code",
   "execution_count": 2,
   "metadata": {},
   "outputs": [],
   "source": [
    "'''\n",
    "Implementação do kNN\n",
    "dataset: https://archive.ics.uci.edu/ml/machine-learning-databases/haberman/haberman.data\n",
    "Descrição: Sobrevivencia de pacientes submetidos a cirurgia de mama\n",
    "'''\n",
    "\n",
    "# lista de amostras\n",
    "amostras =[]"
   ]
  },
  {
   "cell_type": "code",
   "execution_count": 3,
   "metadata": {},
   "outputs": [],
   "source": [
    "with open('dataset.data','r') as f:\n",
    "    for linha in f.readlines():\n",
    "        atrib = linha.replace('\\n','').split(',')\n",
    "        amostras.append([int(atrib[0]),int(atrib[1]),\n",
    "                        int(atrib[2]),int(atrib[3])])"
   ]
  },
  {
   "cell_type": "code",
   "execution_count": 4,
   "metadata": {},
   "outputs": [
    {
     "data": {
      "text/plain": [
       "[[30, 64, 1, 1],\n",
       " [30, 62, 3, 1],\n",
       " [30, 65, 0, 1],\n",
       " [31, 59, 2, 1],\n",
       " [31, 65, 4, 1],\n",
       " [33, 58, 10, 1],\n",
       " [33, 60, 0, 1],\n",
       " [34, 59, 0, 2],\n",
       " [34, 66, 9, 2],\n",
       " [34, 58, 30, 1],\n",
       " [34, 60, 1, 1],\n",
       " [34, 61, 10, 1],\n",
       " [34, 67, 7, 1],\n",
       " [34, 60, 0, 1],\n",
       " [35, 64, 13, 1],\n",
       " [35, 63, 0, 1],\n",
       " [36, 60, 1, 1],\n",
       " [36, 69, 0, 1],\n",
       " [37, 60, 0, 1],\n",
       " [37, 63, 0, 1],\n",
       " [37, 58, 0, 1],\n",
       " [37, 59, 6, 1],\n",
       " [37, 60, 15, 1],\n",
       " [37, 63, 0, 1],\n",
       " [38, 69, 21, 2],\n",
       " [38, 59, 2, 1],\n",
       " [38, 60, 0, 1],\n",
       " [38, 60, 0, 1],\n",
       " [38, 62, 3, 1],\n",
       " [38, 64, 1, 1],\n",
       " [38, 66, 0, 1],\n",
       " [38, 66, 11, 1],\n",
       " [38, 60, 1, 1],\n",
       " [38, 67, 5, 1],\n",
       " [39, 66, 0, 2],\n",
       " [39, 63, 0, 1],\n",
       " [39, 67, 0, 1],\n",
       " [39, 58, 0, 1],\n",
       " [39, 59, 2, 1],\n",
       " [39, 63, 4, 1],\n",
       " [40, 58, 2, 1],\n",
       " [40, 58, 0, 1],\n",
       " [40, 65, 0, 1],\n",
       " [41, 60, 23, 2],\n",
       " [41, 64, 0, 2],\n",
       " [41, 67, 0, 2],\n",
       " [41, 58, 0, 1],\n",
       " [41, 59, 8, 1],\n",
       " [41, 59, 0, 1],\n",
       " [41, 64, 0, 1],\n",
       " [41, 69, 8, 1],\n",
       " [41, 65, 0, 1],\n",
       " [41, 65, 0, 1],\n",
       " [42, 69, 1, 2],\n",
       " [42, 59, 0, 2],\n",
       " [42, 58, 0, 1],\n",
       " [42, 60, 1, 1],\n",
       " [42, 59, 2, 1],\n",
       " [42, 61, 4, 1],\n",
       " [42, 62, 20, 1],\n",
       " [42, 65, 0, 1],\n",
       " [42, 63, 1, 1],\n",
       " [43, 58, 52, 2],\n",
       " [43, 59, 2, 2],\n",
       " [43, 64, 0, 2],\n",
       " [43, 64, 0, 2],\n",
       " [43, 63, 14, 1],\n",
       " [43, 64, 2, 1],\n",
       " [43, 64, 3, 1],\n",
       " [43, 60, 0, 1],\n",
       " [43, 63, 2, 1],\n",
       " [43, 65, 0, 1],\n",
       " [43, 66, 4, 1],\n",
       " [44, 64, 6, 2],\n",
       " [44, 58, 9, 2],\n",
       " [44, 63, 19, 2],\n",
       " [44, 61, 0, 1],\n",
       " [44, 63, 1, 1],\n",
       " [44, 61, 0, 1],\n",
       " [44, 67, 16, 1],\n",
       " [45, 65, 6, 2],\n",
       " [45, 66, 0, 2],\n",
       " [45, 67, 1, 2],\n",
       " [45, 60, 0, 1],\n",
       " [45, 67, 0, 1],\n",
       " [45, 59, 14, 1],\n",
       " [45, 64, 0, 1],\n",
       " [45, 68, 0, 1],\n",
       " [45, 67, 1, 1],\n",
       " [46, 58, 2, 2],\n",
       " [46, 69, 3, 2],\n",
       " [46, 62, 5, 2],\n",
       " [46, 65, 20, 2],\n",
       " [46, 62, 0, 1],\n",
       " [46, 58, 3, 1],\n",
       " [46, 63, 0, 1],\n",
       " [47, 63, 23, 2],\n",
       " [47, 62, 0, 2],\n",
       " [47, 65, 0, 2],\n",
       " [47, 61, 0, 1],\n",
       " [47, 63, 6, 1],\n",
       " [47, 66, 0, 1],\n",
       " [47, 67, 0, 1],\n",
       " [47, 58, 3, 1],\n",
       " [47, 60, 4, 1],\n",
       " [47, 68, 4, 1],\n",
       " [47, 66, 12, 1],\n",
       " [48, 58, 11, 2],\n",
       " [48, 58, 11, 2],\n",
       " [48, 67, 7, 2],\n",
       " [48, 61, 8, 1],\n",
       " [48, 62, 2, 1],\n",
       " [48, 64, 0, 1],\n",
       " [48, 66, 0, 1],\n",
       " [49, 63, 0, 2],\n",
       " [49, 64, 10, 2],\n",
       " [49, 61, 1, 1],\n",
       " [49, 62, 0, 1],\n",
       " [49, 66, 0, 1],\n",
       " [49, 60, 1, 1],\n",
       " [49, 62, 1, 1],\n",
       " [49, 63, 3, 1],\n",
       " [49, 61, 0, 1],\n",
       " [49, 67, 1, 1],\n",
       " [50, 63, 13, 2],\n",
       " [50, 64, 0, 2],\n",
       " [50, 59, 0, 1],\n",
       " [50, 61, 6, 1],\n",
       " [50, 61, 0, 1],\n",
       " [50, 63, 1, 1],\n",
       " [50, 58, 1, 1],\n",
       " [50, 59, 2, 1],\n",
       " [50, 61, 0, 1],\n",
       " [50, 64, 0, 1],\n",
       " [50, 65, 4, 1],\n",
       " [50, 66, 1, 1],\n",
       " [51, 59, 13, 2],\n",
       " [51, 59, 3, 2],\n",
       " [51, 64, 7, 1],\n",
       " [51, 59, 1, 1],\n",
       " [51, 65, 0, 1],\n",
       " [51, 66, 1, 1],\n",
       " [52, 69, 3, 2],\n",
       " [52, 59, 2, 2],\n",
       " [52, 62, 3, 2],\n",
       " [52, 66, 4, 2],\n",
       " [52, 61, 0, 1],\n",
       " [52, 63, 4, 1],\n",
       " [52, 69, 0, 1],\n",
       " [52, 60, 4, 1],\n",
       " [52, 60, 5, 1],\n",
       " [52, 62, 0, 1],\n",
       " [52, 62, 1, 1],\n",
       " [52, 64, 0, 1],\n",
       " [52, 65, 0, 1],\n",
       " [52, 68, 0, 1],\n",
       " [53, 58, 4, 2],\n",
       " [53, 65, 1, 2],\n",
       " [53, 59, 3, 2],\n",
       " [53, 60, 9, 2],\n",
       " [53, 63, 24, 2],\n",
       " [53, 65, 12, 2],\n",
       " [53, 58, 1, 1],\n",
       " [53, 60, 1, 1],\n",
       " [53, 60, 2, 1],\n",
       " [53, 61, 1, 1],\n",
       " [53, 63, 0, 1],\n",
       " [54, 60, 11, 2],\n",
       " [54, 65, 23, 2],\n",
       " [54, 65, 5, 2],\n",
       " [54, 68, 7, 2],\n",
       " [54, 59, 7, 1],\n",
       " [54, 60, 3, 1],\n",
       " [54, 66, 0, 1],\n",
       " [54, 67, 46, 1],\n",
       " [54, 62, 0, 1],\n",
       " [54, 69, 7, 1],\n",
       " [54, 63, 19, 1],\n",
       " [54, 58, 1, 1],\n",
       " [54, 62, 0, 1],\n",
       " [55, 63, 6, 2],\n",
       " [55, 68, 15, 2],\n",
       " [55, 58, 1, 1],\n",
       " [55, 58, 0, 1],\n",
       " [55, 58, 1, 1],\n",
       " [55, 66, 18, 1],\n",
       " [55, 66, 0, 1],\n",
       " [55, 69, 3, 1],\n",
       " [55, 69, 22, 1],\n",
       " [55, 67, 1, 1],\n",
       " [56, 65, 9, 2],\n",
       " [56, 66, 3, 2],\n",
       " [56, 60, 0, 1],\n",
       " [56, 66, 2, 1],\n",
       " [56, 66, 1, 1],\n",
       " [56, 67, 0, 1],\n",
       " [56, 60, 0, 1],\n",
       " [57, 61, 5, 2],\n",
       " [57, 62, 14, 2],\n",
       " [57, 64, 1, 2],\n",
       " [57, 64, 9, 1],\n",
       " [57, 69, 0, 1],\n",
       " [57, 61, 0, 1],\n",
       " [57, 62, 0, 1],\n",
       " [57, 63, 0, 1],\n",
       " [57, 64, 0, 1],\n",
       " [57, 64, 0, 1],\n",
       " [57, 67, 0, 1],\n",
       " [58, 59, 0, 1],\n",
       " [58, 60, 3, 1],\n",
       " [58, 61, 1, 1],\n",
       " [58, 67, 0, 1],\n",
       " [58, 58, 0, 1],\n",
       " [58, 58, 3, 1],\n",
       " [58, 61, 2, 1],\n",
       " [59, 62, 35, 2],\n",
       " [59, 60, 0, 1],\n",
       " [59, 63, 0, 1],\n",
       " [59, 64, 1, 1],\n",
       " [59, 64, 4, 1],\n",
       " [59, 64, 0, 1],\n",
       " [59, 64, 7, 1],\n",
       " [59, 67, 3, 1],\n",
       " [60, 59, 17, 2],\n",
       " [60, 65, 0, 2],\n",
       " [60, 61, 1, 1],\n",
       " [60, 67, 2, 1],\n",
       " [60, 61, 25, 1],\n",
       " [60, 64, 0, 1],\n",
       " [61, 62, 5, 2],\n",
       " [61, 65, 0, 2],\n",
       " [61, 68, 1, 2],\n",
       " [61, 59, 0, 1],\n",
       " [61, 59, 0, 1],\n",
       " [61, 64, 0, 1],\n",
       " [61, 65, 8, 1],\n",
       " [61, 68, 0, 1],\n",
       " [61, 59, 0, 1],\n",
       " [62, 59, 13, 2],\n",
       " [62, 58, 0, 2],\n",
       " [62, 65, 19, 2],\n",
       " [62, 62, 6, 1],\n",
       " [62, 66, 0, 1],\n",
       " [62, 66, 0, 1],\n",
       " [62, 58, 0, 1],\n",
       " [63, 60, 1, 2],\n",
       " [63, 61, 0, 1],\n",
       " [63, 62, 0, 1],\n",
       " [63, 63, 0, 1],\n",
       " [63, 63, 0, 1],\n",
       " [63, 66, 0, 1],\n",
       " [63, 61, 9, 1],\n",
       " [63, 61, 28, 1],\n",
       " [64, 58, 0, 1],\n",
       " [64, 65, 22, 1],\n",
       " [64, 66, 0, 1],\n",
       " [64, 61, 0, 1],\n",
       " [64, 68, 0, 1],\n",
       " [65, 58, 0, 2],\n",
       " [65, 61, 2, 2],\n",
       " [65, 62, 22, 2],\n",
       " [65, 66, 15, 2],\n",
       " [65, 58, 0, 1],\n",
       " [65, 64, 0, 1],\n",
       " [65, 67, 0, 1],\n",
       " [65, 59, 2, 1],\n",
       " [65, 64, 0, 1],\n",
       " [65, 67, 1, 1],\n",
       " [66, 58, 0, 2],\n",
       " [66, 61, 13, 2],\n",
       " [66, 58, 0, 1],\n",
       " [66, 58, 1, 1],\n",
       " [66, 68, 0, 1],\n",
       " [67, 64, 8, 2],\n",
       " [67, 63, 1, 2],\n",
       " [67, 66, 0, 1],\n",
       " [67, 66, 0, 1],\n",
       " [67, 61, 0, 1],\n",
       " [67, 65, 0, 1],\n",
       " [68, 67, 0, 1],\n",
       " [68, 68, 0, 1],\n",
       " [69, 67, 8, 2],\n",
       " [69, 60, 0, 1],\n",
       " [69, 65, 0, 1],\n",
       " [69, 66, 0, 1],\n",
       " [70, 58, 0, 2],\n",
       " [70, 58, 4, 2],\n",
       " [70, 66, 14, 1],\n",
       " [70, 67, 0, 1],\n",
       " [70, 68, 0, 1],\n",
       " [70, 59, 8, 1],\n",
       " [70, 63, 0, 1],\n",
       " [71, 68, 2, 1],\n",
       " [72, 63, 0, 2],\n",
       " [72, 58, 0, 1],\n",
       " [72, 64, 0, 1],\n",
       " [72, 67, 3, 1],\n",
       " [73, 62, 0, 1],\n",
       " [73, 68, 0, 1],\n",
       " [74, 65, 3, 2],\n",
       " [74, 63, 0, 1],\n",
       " [75, 62, 1, 1],\n",
       " [76, 67, 0, 1],\n",
       " [77, 65, 3, 1],\n",
       " [78, 65, 1, 2],\n",
       " [83, 58, 2, 2]]"
      ]
     },
     "execution_count": 4,
     "metadata": {},
     "output_type": "execute_result"
    }
   ],
   "source": [
    "amostras"
   ]
  },
  {
   "cell_type": "code",
   "execution_count": 5,
   "metadata": {},
   "outputs": [
    {
     "data": {
      "text/plain": [
       "306"
      ]
     },
     "execution_count": 5,
     "metadata": {},
     "output_type": "execute_result"
    }
   ],
   "source": [
    "len(amostras)"
   ]
  },
  {
   "cell_type": "code",
   "execution_count": 12,
   "metadata": {},
   "outputs": [],
   "source": [
    "def info_data_set(amostras, verbose=True):\n",
    "    if verbose:\n",
    "        print('Total de amostras: %d' % len(amostras))\n",
    "    rotulo1, rotulo2 = 0, 0\n",
    "    for amostra in amostras:\n",
    "        if amostra[-1] == 1:\n",
    "            rotulo1 += 1\n",
    "        else:\n",
    "            rotulo2 += 1\n",
    "    if verbose:\n",
    "        print('Total rotulo 1: %d' % rotulo1)\n",
    "        print('Total rotulo 2: %d' % rotulo2)\n",
    "    return [len(amostras),rotulo1,rotulo2]"
   ]
  },
  {
   "cell_type": "code",
   "execution_count": 13,
   "metadata": {},
   "outputs": [
    {
     "name": "stdout",
     "output_type": "stream",
     "text": [
      "Total de amostras: 306\n",
      "Total rotulo 1: 225\n",
      "Total rotulo 2: 81\n"
     ]
    },
    {
     "data": {
      "text/plain": [
       "[306, 225, 81]"
      ]
     },
     "execution_count": 13,
     "metadata": {},
     "output_type": "execute_result"
    }
   ],
   "source": [
    "info_data_set(amostras)"
   ]
  },
  {
   "cell_type": "code",
   "execution_count": 14,
   "metadata": {},
   "outputs": [],
   "source": [
    "_, rotulo1, rotulo2 = info_data_set(amostras,verbose=False) #capturando o valor de cada variado passado na função, \"_,\" pega nada"
   ]
  },
  {
   "cell_type": "code",
   "execution_count": 15,
   "metadata": {},
   "outputs": [],
   "source": [
    "p = 0.6 # % que iremos utilizar da cada amostra\n",
    "treinamento, teste = [], [] # criando duas listas uma para treinamento outra para teste\n",
    "max_rotulo1, max_rotulo2 = int(p * rotulo1), int(p * rotulo2) #multiplicamos para saber o numero maximo que podemos utilizar para o treinamento"
   ]
  },
  {
   "cell_type": "code",
   "execution_count": 16,
   "metadata": {},
   "outputs": [],
   "source": [
    "total_rotulo1, total_rotulo2 = 0, 0\n",
    "for amostra in amostras:\n",
    "    if(total_rotulo1 + total_rotulo2) < (max_rotulo1 + max_rotulo2):\n",
    "        treinamento.append(amostra)\n",
    "        if amostra[-1] == 1 and total_rotulo1 < max_rotulo1:\n",
    "            total_rotulo1 += 1\n",
    "        else:\n",
    "            total_rotulo2 += 1\n",
    "    else:\n",
    "        teste.append(amostra)"
   ]
  },
  {
   "cell_type": "code",
   "execution_count": 17,
   "metadata": {},
   "outputs": [
    {
     "name": "stdout",
     "output_type": "stream",
     "text": [
      "183\n",
      "123\n",
      "Total de amostras: 183\n",
      "Total rotulo 1: 132\n",
      "Total rotulo 2: 51\n"
     ]
    },
    {
     "data": {
      "text/plain": [
       "[183, 132, 51]"
      ]
     },
     "execution_count": 17,
     "metadata": {},
     "output_type": "execute_result"
    }
   ],
   "source": [
    "print(len(treinamento))\n",
    "print(len(teste))\n",
    "info_data_set(treinamento)"
   ]
  },
  {
   "cell_type": "code",
   "execution_count": 18,
   "metadata": {},
   "outputs": [
    {
     "name": "stdout",
     "output_type": "stream",
     "text": [
      "Total de amostras: 123\n",
      "Total rotulo 1: 93\n",
      "Total rotulo 2: 30\n"
     ]
    },
    {
     "data": {
      "text/plain": [
       "[123, 93, 30]"
      ]
     },
     "execution_count": 18,
     "metadata": {},
     "output_type": "execute_result"
    }
   ],
   "source": [
    "info_data_set(teste)"
   ]
  },
  {
   "cell_type": "code",
   "execution_count": 19,
   "metadata": {},
   "outputs": [],
   "source": [
    "import math"
   ]
  },
  {
   "cell_type": "code",
   "execution_count": 20,
   "metadata": {},
   "outputs": [],
   "source": [
    "def dist_euclidiana(v1, v2):\n",
    "    dim = len(v1)\n",
    "    soma = 0\n",
    "    for i in range(dim - 1):#Não queremos pegar o atributo de saida\n",
    "        soma += math.pow(v1[i] - v2[i],2)\n",
    "    return math.sqrt(soma)"
   ]
  },
  {
   "cell_type": "code",
   "execution_count": 22,
   "metadata": {},
   "outputs": [
    {
     "data": {
      "text/plain": [
       "0.0"
      ]
     },
     "execution_count": 22,
     "metadata": {},
     "output_type": "execute_result"
    }
   ],
   "source": [
    "# teste distancia\n",
    "v1 = [2,1,3]\n",
    "v2 = [2,1,3]\n",
    "dist_euclidiana(v1,v2)"
   ]
  },
  {
   "cell_type": "code",
   "execution_count": 56,
   "metadata": {},
   "outputs": [],
   "source": [
    "def knn(treinamento, nova_amostra, K):\n",
    "    tam_treino = len(treinamento)\n",
    "    dists = {}\n",
    "    # Calculo da distancia da nova amostra para todos os outros \n",
    "    #exemplos\n",
    "    for i in range(tam_treino):\n",
    "        d = dist_euclidiana(treinamento[i], nova_amostra)\n",
    "        dists[i] = d\n",
    "        \n",
    "    # Obtem as chaves dos k vizinhos mais proximos\n",
    "    k_vizinhos = sorted(dists, key= dists.get)[:K]\n",
    "    \n",
    "    # Votação majoritaria\n",
    "    qtd_rotulo1 = 0\n",
    "    qtd_rotulo2 = 0\n",
    "    for indice in k_vizinhos:\n",
    "        if treinamento[indice][-1] == 1:\n",
    "            qtd_rotulo1 += 1\n",
    "        else:\n",
    "            qtd_rotulo2 += 1\n",
    "            \n",
    "    if qtd_rotulo1 > qtd_rotulo2:\n",
    "        return 1\n",
    "    else:\n",
    "        return 2"
   ]
  },
  {
   "cell_type": "code",
   "execution_count": 43,
   "metadata": {},
   "outputs": [
    {
     "name": "stdout",
     "output_type": "stream",
     "text": [
      "[58, 58, 3, 1]\n",
      "1\n"
     ]
    }
   ],
   "source": [
    "print(teste[30]) #Amostra\n",
    "print(knn(treinamento, teste[30], K= 4)) #Teste de verdade"
   ]
  },
  {
   "cell_type": "code",
   "execution_count": 75,
   "metadata": {},
   "outputs": [
    {
     "name": "stdout",
     "output_type": "stream",
     "text": [
      "Total de Treinamento 183\n",
      "Total de testes 123\n",
      "Total de acertos 96\n",
      "Total de acertos: 78.05%\n"
     ]
    }
   ],
   "source": [
    "acertos = 0\n",
    "K = 42\n",
    "for amostra in teste:\n",
    "    classe = knn(treinamento, amostra, K)\n",
    "    if amostra[-1] == classe:\n",
    "        acertos += 1\n",
    "\n",
    "print('Total de Treinamento %d' % len(treinamento))\n",
    "print('Total de testes %d'  % len(teste))\n",
    "print('Total de acertos %d' % acertos )\n",
    "print( 'Total de acertos: %.2f%%' % (100 * acertos / len(teste)))"
   ]
  }
 ],
 "metadata": {
  "kernelspec": {
   "display_name": "Python 3",
   "language": "python",
   "name": "python3"
  },
  "language_info": {
   "codemirror_mode": {
    "name": "ipython",
    "version": 3
   },
   "file_extension": ".py",
   "mimetype": "text/x-python",
   "name": "python",
   "nbconvert_exporter": "python",
   "pygments_lexer": "ipython3",
   "version": "3.6.2"
  }
 },
 "nbformat": 4,
 "nbformat_minor": 2
}
