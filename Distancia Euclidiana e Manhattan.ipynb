{
 "cells": [
  {
   "cell_type": "code",
   "execution_count": 2,
   "metadata": {},
   "outputs": [],
   "source": [
    "import math\n",
    "v1 = [1.2,2,3.8,4.5]\n",
    "v2 = [0.5,4.5,9.6,3.4]"
   ]
  },
  {
   "cell_type": "code",
   "execution_count": 3,
   "metadata": {},
   "outputs": [],
   "source": [
    "\n",
    "def dist_euclidiana(v1, v2):\n",
    "    dim = len(v1)\n",
    "    soma = 0\n",
    "    for i in range(dim):\n",
    "        soma += math.pow(v1[i] - v2[i],2)\n",
    "    return math.sqrt(soma)"
   ]
  },
  {
   "cell_type": "code",
   "execution_count": 4,
   "metadata": {},
   "outputs": [
    {
     "name": "stdout",
     "output_type": "stream",
     "text": [
      "6.45\n"
     ]
    }
   ],
   "source": [
    "print('%.2f' % dist_euclidiana(v1,v2))"
   ]
  },
  {
   "cell_type": "code",
   "execution_count": 6,
   "metadata": {},
   "outputs": [],
   "source": [
    "#Distancia de euclidiana com numpy\n",
    "import numpy as np\n",
    "def dist_euclidiana_np(v1,v2):\n",
    "    v1,v2 = np.array(v1), np.array(v2) #Transforma lista em array de numpy\n",
    "    diff = v1 - v2 #Faz a diferença de cada valor\n",
    "    quad_dist = np.dot(diff, diff)#faz a diferença * a diferença\n",
    "    return math.sqrt(quad_dist)#faz a raiz quadrada"
   ]
  },
  {
   "cell_type": "code",
   "execution_count": 7,
   "metadata": {},
   "outputs": [
    {
     "name": "stdout",
     "output_type": "stream",
     "text": [
      "6.45\n"
     ]
    }
   ],
   "source": [
    "print('%.2f' % dist_euclidiana_np(v1,v2))"
   ]
  },
  {
   "cell_type": "code",
   "execution_count": null,
   "metadata": {},
   "outputs": [],
   "source": []
  }
 ],
 "metadata": {
  "kernelspec": {
   "display_name": "Python 3",
   "language": "python",
   "name": "python3"
  },
  "language_info": {
   "codemirror_mode": {
    "name": "ipython",
    "version": 3
   },
   "file_extension": ".py",
   "mimetype": "text/x-python",
   "name": "python",
   "nbconvert_exporter": "python",
   "pygments_lexer": "ipython3",
   "version": "3.6.2"
  }
 },
 "nbformat": 4,
 "nbformat_minor": 2
}
