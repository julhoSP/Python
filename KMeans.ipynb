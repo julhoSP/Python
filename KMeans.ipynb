{
 "cells": [
  {
   "cell_type": "code",
   "execution_count": null,
   "metadata": {},
   "outputs": [],
   "source": [
    "#Agrupa coisas de acordo com a distancia do centro do cluster\n",
    "#1- K distintos valores para o centros dos grupos(isso muda com o tempo)\n",
    "#2- Associar cada ponto ao centro mais proximo\n",
    "#3- Recalcular o Centro de cada Grupo, atraves da media(mean)\n",
    "#4- Repitir 2 e 3 até nenhum elemento mudar de grupo"
   ]
  }
 ],
 "metadata": {
  "kernelspec": {
   "display_name": "Python 3",
   "language": "python",
   "name": "python3"
  },
  "language_info": {
   "codemirror_mode": {
    "name": "ipython",
    "version": 3
   },
   "file_extension": ".py",
   "mimetype": "text/x-python",
   "name": "python",
   "nbconvert_exporter": "python",
   "pygments_lexer": "ipython3",
   "version": "3.6.2"
  }
 },
 "nbformat": 4,
 "nbformat_minor": 2
}
