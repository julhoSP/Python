{
 "cells": [
  {
   "cell_type": "code",
   "execution_count": 5,
   "metadata": {},
   "outputs": [],
   "source": [
    "# implementação sem bibliotecas\n",
    "import random"
   ]
  },
  {
   "cell_type": "code",
   "execution_count": 110,
   "metadata": {},
   "outputs": [],
   "source": [
    "class Perceptron:\n",
    "    def __init__(self, amostras, saidas, taxa_aprendizado=0.1, epocas= 1000, limiar= -1):\n",
    "        self.amostras = amostras\n",
    "        self.saidas = saidas\n",
    "        self.taxa_aprendizado = taxa_aprendizado # velocidade de aprendizado do algoritmo\n",
    "        self.epocas = epocas #quantidade de vezes que o agoritmo realizou a operação para chegar no resultado\n",
    "        self.limiar = limiar\n",
    "        self.n_amostras = len(amostras)\n",
    "        self.n_atributos = len(amostras[0])\n",
    "        self.pesos = []#lista ponderada de pesos\n",
    "    \n",
    "    def treinar(self):\n",
    "        \n",
    "        for amostra in self.amostras:\n",
    "            amostra.insert(0, -1)\n",
    "            \n",
    "        for i in range(self.n_atributos):\n",
    "            self.pesos.append(random.random())#gera pesos aliatorios entre 0 e 1\n",
    "            \n",
    "        self.pesos.insert(0, self.limiar)\n",
    "        n_epocas = 0 # contador de epocas\n",
    "        \n",
    "        while True:\n",
    "            \n",
    "            erro = False #Erro não existe\n",
    "            \n",
    "            for i in range(self.n_amostras):# Potencial de ativação\n",
    "                \n",
    "                u = 0\n",
    "                for j in range(self.n_atributos + 1):\n",
    "                    u += self.pesos[j]* self.amostras[i][j]\n",
    "                    \n",
    "                y = self.degrau(u) # Obtem a saida da rede\n",
    "                \n",
    "                # Verifica se a saida da rede é diferente da saida desejada\n",
    "                if y != self.saidas[i]:\n",
    "                    #calculo o erro\n",
    "                    erro_aux = self.saidas[i] - y\n",
    "                    #Ajustes no peso\n",
    "                    for j in range(self.n_atributos + 1):\n",
    "                        self.pesos[j] = self.pesos[j] + self.taxa_aprendizado * erro_aux * self.amostras[i][j]\n",
    "                    #Erro ainda existe    \n",
    "                    erro = True\n",
    "            n_epocas += 1  #Incrementa o numero de epocas\n",
    "            \n",
    "            #Criterio de parada\n",
    "            if not erro or n_epocas > self.epocas:\n",
    "                break\n",
    "        print(n_epocas)\n",
    "\n",
    "    def treinar_sinal(self):\n",
    "        \n",
    "        for amostra in self.amostras:\n",
    "            amostra.insert(0, -1)\n",
    "            \n",
    "        for i in range(self.n_atributos):\n",
    "            self.pesos.append(random.random())#gera pesos aliatorios entre 0 e 1\n",
    "            \n",
    "        self.pesos.insert(0, self.limiar)\n",
    "        n_epocas = 0 # contador de epocas\n",
    "        \n",
    "        while True:\n",
    "            \n",
    "            erro = False #Erro não existe\n",
    "            \n",
    "            for i in range(self.n_amostras):# Potencial de ativação\n",
    "                \n",
    "                u = 0\n",
    "                for j in range(self.n_atributos + 1):\n",
    "                    u += self.pesos[j]* self.amostras[i][j]\n",
    "                    \n",
    "                y = self.sinal(u) # Obtem a saida da rede\n",
    "                \n",
    "                # Verifica se a saida da rede é diferente da saida desejada\n",
    "                if y != self.saidas[i]:\n",
    "                    #calculo o erro\n",
    "                    erro_aux = self.saidas[i] - y\n",
    "                    #Ajustes no peso\n",
    "                    for j in range(self.n_atributos + 1):\n",
    "                        self.pesos[j] = self.pesos[j] + self.taxa_aprendizado * erro_aux * self.amostras[i][j]\n",
    "                    #Erro ainda existe    \n",
    "                    erro = True\n",
    "            n_epocas += 1  #Incrementa o numero de epocas\n",
    "            \n",
    "            #Criterio de parada\n",
    "            if not erro or n_epocas > self.epocas:\n",
    "                break\n",
    "        print(n_epocas)\n",
    "    \n",
    "    def teste(self,amostra):\n",
    "        amostra.insert(0,-1)\n",
    "        u = 0\n",
    "        for i in range(self.n_atributos + 1):\n",
    "            u += self.pesos[i] * amostra[i]\n",
    "        y = self.degrau(u)\n",
    "        print('Classe %d' % y)\n",
    "        \n",
    "    def teste_sinal(self,amostra):\n",
    "        amostra.insert(0,-1)\n",
    "        u = 0\n",
    "        for i in range(self.n_atributos + 1):\n",
    "            u += self.pesos[i] * amostra[i]\n",
    "        y = self.sinal(u)\n",
    "        print('Classe %d' % y)         \n",
    "    \n",
    "    def degrau(self, u):\n",
    "        if u >= 0:\n",
    "            return 1\n",
    "        else:\n",
    "            return 0\n",
    "    def sinal(self, u):\n",
    "        if u >= 0:\n",
    "            return 1\n",
    "        else:\n",
    "            return -1"
   ]
  },
  {
   "cell_type": "code",
   "execution_count": 108,
   "metadata": {},
   "outputs": [
    {
     "name": "stdout",
     "output_type": "stream",
     "text": [
      "12\n",
      "Classe 1\n"
     ]
    }
   ],
   "source": [
    "amostras = [[0,0],[0,1],[1,0],[1,1]]\n",
    "saidas = [0,1,1,1]\n",
    "rede = Perceptron(amostras, saidas, taxa_aprendizado=0.1)\n",
    "rede.treinar()\n",
    "rede.teste([1,0])"
   ]
  },
  {
   "cell_type": "code",
   "execution_count": 117,
   "metadata": {},
   "outputs": [
    {
     "name": "stdout",
     "output_type": "stream",
     "text": [
      "70\n",
      "Classe -1\n"
     ]
    }
   ],
   "source": [
    "#Outro exemplo\n",
    "amostras = [[0.1, 0.4,0.7], [0.3,0.7,0.2],[0.6,0.9,0.8],[0.5,0.7,0.1]]\n",
    "saidas = [1,-1,-1,1]\n",
    "rede = Perceptron(amostras, saidas, taxa_aprendizado=0.5)\n",
    "rede.treinar_sinal()\n",
    "rede.teste_sinal([0.6,0.9,0.8])"
   ]
  }
 ],
 "metadata": {
  "kernelspec": {
   "display_name": "Python 3",
   "language": "python",
   "name": "python3"
  },
  "language_info": {
   "codemirror_mode": {
    "name": "ipython",
    "version": 3
   },
   "file_extension": ".py",
   "mimetype": "text/x-python",
   "name": "python",
   "nbconvert_exporter": "python",
   "pygments_lexer": "ipython3",
   "version": "3.6.2"
  }
 },
 "nbformat": 4,
 "nbformat_minor": 2
}
