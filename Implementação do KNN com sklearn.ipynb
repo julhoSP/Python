{
 "cells": [
  {
   "cell_type": "code",
   "execution_count": 2,
   "metadata": {},
   "outputs": [],
   "source": [
    "#implementação do KNN com skLearn\n",
    "from sklearn.neighbors import KNeighborsClassifier"
   ]
  },
  {
   "cell_type": "code",
   "execution_count": 3,
   "metadata": {},
   "outputs": [],
   "source": [
    "entradas = []\n",
    "saidas = []"
   ]
  },
  {
   "cell_type": "code",
   "execution_count": 4,
   "metadata": {},
   "outputs": [],
   "source": [
    "with open('dataset.data', 'r') as f:\n",
    "    for linha in f.readlines():\n",
    "        atrib = linha.replace('\\n','').split(',')\n",
    "        entradas.append([int(atrib[0]),int(atrib[2])])\n",
    "        saidas.append(int(atrib[3]))"
   ]
  },
  {
   "cell_type": "code",
   "execution_count": 30,
   "metadata": {},
   "outputs": [
    {
     "name": "stdout",
     "output_type": "stream",
     "text": [
      "Total de treinamento: 183\n",
      "Total de testes: 123\n",
      "Total de acertos: 95\n",
      "Porcentagem de acertos: 77.24\n"
     ]
    }
   ],
   "source": [
    "K = 40\n",
    "p = 0.6\n",
    "limite = int(p * len(entradas)) # calculo de treino\n",
    "knn = KNeighborsClassifier(n_neighbors = K) # Qual será o K\n",
    "knn.fit(entradas[:limite], saidas[:limite]) # Treinando modelo\n",
    "labels = knn.predict(entradas[limite:]) # Predição associada ao treino\n",
    "acertos = 0\n",
    "indice_label = 0\n",
    "for i in range(limite, len(entradas)):\n",
    "    if labels[indice_label] ==  saidas[i]:\n",
    "        acertos += 1\n",
    "    indice_label += 1\n",
    "\n",
    "print('Total de treinamento: %d' % limite)\n",
    "print('Total de testes: %d' % (len(entradas) - limite))\n",
    "print('Total de acertos: %d' % acertos)\n",
    "print('Porcentagem de acertos: %.2f' % (100 * (acertos/ (len(entradas) - limite))))"
   ]
  },
  {
   "cell_type": "code",
   "execution_count": null,
   "metadata": {},
   "outputs": [],
   "source": []
  }
 ],
 "metadata": {
  "kernelspec": {
   "display_name": "Python 3",
   "language": "python",
   "name": "python3"
  },
  "language_info": {
   "codemirror_mode": {
    "name": "ipython",
    "version": 3
   },
   "file_extension": ".py",
   "mimetype": "text/x-python",
   "name": "python",
   "nbconvert_exporter": "python",
   "pygments_lexer": "ipython3",
   "version": "3.6.2"
  }
 },
 "nbformat": 4,
 "nbformat_minor": 2
}
