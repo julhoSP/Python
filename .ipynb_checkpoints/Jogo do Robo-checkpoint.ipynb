{
 "cells": [
  {
   "cell_type": "markdown",
   "metadata": {},
   "source": [
    "# Robos\n"
   ]
  },
  {
   "cell_type": "markdown",
   "metadata": {},
   "source": [
    "Vamos fazer um jogo que permita que o robo ande em uma matriz 10x10 e colete recompensa utilizando um pouco de orientação a objeto"
   ]
  },
  {
   "cell_type": "code",
   "execution_count": 43,
   "metadata": {},
   "outputs": [],
   "source": [
    "class Point:\n",
    "    \n",
    "    def __init__(self, x, y):\n",
    "        self.x = x\n",
    "        self.y = y"
   ]
  },
  {
   "cell_type": "code",
   "execution_count": 6,
   "metadata": {},
   "outputs": [],
   "source": []
  },
  {
   "cell_type": "code",
   "execution_count": 44,
   "metadata": {},
   "outputs": [],
   "source": [
    "class Robot(Point):\n",
    "    \n",
    "    def move_up(self):\n",
    "        if(self.y < 10):\n",
    "            self.y = self.y + 1\n",
    "        else:\n",
    "            print('Movimento Invalido')\n",
    "    \n",
    "    def move_down(self):\n",
    "        if(self.y > 0):\n",
    "            self.y = self.x - 1\n",
    "        else:\n",
    "            print('Movimento Invalido')\n",
    "    \n",
    "    def move_left(self):\n",
    "        if(self.x > 0):\n",
    "            self.x = self.x - 1\n",
    "        else:\n",
    "            print('Movimento Invalido')\n",
    "    \n",
    "    def move_right(self):\n",
    "        if(self.x < 10):\n",
    "            self.x = self.x + 1\n",
    "        else:\n",
    "            print('Movimento Invalido')"
   ]
  },
  {
   "cell_type": "code",
   "execution_count": 45,
   "metadata": {},
   "outputs": [],
   "source": [
    "class Reward(Point):\n",
    "    \n",
    "    def __init__(self, x, y,name):\n",
    "        super(Reward,self).__init__(x,y)\n",
    "        self.name = name"
   ]
  },
  {
   "cell_type": "code",
   "execution_count": 46,
   "metadata": {},
   "outputs": [],
   "source": [
    "def check_reward(robot, rewards):\n",
    "    found = False\n",
    "    for reward in rewards:\n",
    "        if reward.x == robo.x and reward.y == robo.y:\n",
    "            print(\"Você ganhou %s\" % reward.name)\n",
    "            found = True"
   ]
  },
  {
   "cell_type": "code",
   "execution_count": 48,
   "metadata": {},
   "outputs": [],
   "source": [
    "import random"
   ]
  },
  {
   "cell_type": "code",
   "execution_count": 49,
   "metadata": {},
   "outputs": [],
   "source": [
    "r1 = Reward(random.randint(0,10), random.randint(0,10),'Moeda')\n",
    "r2 = Reward(random.randint(0,10), random.randint(0,10),'Moeda de Ouro')\n",
    "r3 = Reward(random.randint(0,10), random.randint(0,10),'Moeda de Prata')\n",
    "rewards = [r1,r2,r3]"
   ]
  },
  {
   "cell_type": "code",
   "execution_count": 50,
   "metadata": {},
   "outputs": [],
   "source": [
    "robo = Robot(5,5)"
   ]
  },
  {
   "cell_type": "code",
   "execution_count": null,
   "metadata": {},
   "outputs": [],
   "source": [
    "for i in range(10):\n",
    "    moviment = input('Digite u,d,r,l para se mover')\n",
    "    if moviment = u:\n",
    "        robo.move_up()\n",
    "    elif moviment = d:\n",
    "        robo.move_down()\n",
    "    elif moviment = r:\n",
    "        robo.move_right()\n",
    "    elif moviment = l:\n",
    "        robo.move_left()\n",
    "    else:\n",
    "        print('Opção invalida')\n",
    "        continue #volta para o for"
   ]
  }
 ],
 "metadata": {
  "kernelspec": {
   "display_name": "Python 3",
   "language": "python",
   "name": "python3"
  },
  "language_info": {
   "codemirror_mode": {
    "name": "ipython",
    "version": 3
   },
   "file_extension": ".py",
   "mimetype": "text/x-python",
   "name": "python",
   "nbconvert_exporter": "python",
   "pygments_lexer": "ipython3",
   "version": "3.6.2"
  }
 },
 "nbformat": 4,
 "nbformat_minor": 2
}
