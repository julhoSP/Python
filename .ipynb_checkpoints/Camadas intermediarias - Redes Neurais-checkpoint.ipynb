{
 "cells": [
  {
   "cell_type": "markdown",
   "metadata": {},
   "source": [
    "Quantas camadas utilizar, O MINIMO POSSIVEL\n",
    "Se utilizar poucos sobre com underfitting\n",
    "Se utilziar muitos sofrerá com overfitting\n",
    "Redes neurais com 2 camadas podem aproximar funções de qualquer tipo!"
   ]
  },
  {
   "cell_type": "code",
   "execution_count": 2,
   "metadata": {},
   "outputs": [],
   "source": [
    "# Classificação com PyBrain - XOR de 3 dimensões\n",
    "from pybrain.datasets import SupervisedDataSet\n",
    "from pybrain.tools.shortcuts import buildNetwork\n",
    "from pybrain.supervised import BackpropTrainer"
   ]
  },
  {
   "cell_type": "code",
   "execution_count": 3,
   "metadata": {},
   "outputs": [],
   "source": [
    "dataset = SupervisedDataSet(3, 1)"
   ]
  },
  {
   "cell_type": "code",
   "execution_count": 4,
   "metadata": {},
   "outputs": [],
   "source": [
    "dataset.addSample([0,0,0],[0])\n",
    "dataset.addSample([0,0,1],[1])\n",
    "dataset.addSample([0,1,0],[1])\n",
    "dataset.addSample([0,1,1],[0])\n",
    "dataset.addSample([1,0,0],[1])\n",
    "dataset.addSample([1,0,1],[0])\n",
    "dataset.addSample([1,1,0],[0])\n",
    "dataset.addSample([1,1,1],[1])"
   ]
  },
  {
   "cell_type": "code",
   "execution_count": 12,
   "metadata": {},
   "outputs": [],
   "source": [
    "network = buildNetwork(dataset.indim, 6, dataset.outdim, bias=True)\n",
    "trainer = BackpropTrainer(network, dataset, learningrate=0.01, momentum=0.9)"
   ]
  },
  {
   "cell_type": "code",
   "execution_count": 8,
   "metadata": {},
   "outputs": [
    {
     "name": "stdout",
     "output_type": "stream",
     "text": [
      "\n",
      "Testing on data:\n",
      "('out:    ', '[0.416 ]')\n",
      "('correct:', '[0     ]')\n",
      "error:  0.08662621\n",
      "('out:    ', '[0.581 ]')\n",
      "('correct:', '[1     ]')\n",
      "error:  0.08763282\n",
      "('out:    ', '[0.562 ]')\n",
      "('correct:', '[1     ]')\n",
      "error:  0.09581473\n",
      "('out:    ', '[0.467 ]')\n",
      "('correct:', '[0     ]')\n",
      "error:  0.10881740\n",
      "('out:    ', '[0.586 ]')\n",
      "('correct:', '[1     ]')\n",
      "error:  0.08552211\n",
      "('out:    ', '[0.48  ]')\n",
      "('correct:', '[0     ]')\n",
      "error:  0.11521252\n",
      "('out:    ', '[0.453 ]')\n",
      "('correct:', '[0     ]')\n",
      "error:  0.10244985\n",
      "('out:    ', '[0.387 ]')\n",
      "('correct:', '[1     ]')\n",
      "error:  0.18781744\n",
      "('All errors:', [0.08662620628537746, 0.08763281709706384, 0.09581472650932481, 0.10881739971718539, 0.08552211145672636, 0.11521251593181235, 0.1024498483740074, 0.1878174443307272])\n",
      "('Average error:', 0.10873663371277811)\n",
      "('Max error:', 0.1878174443307272, 'Median error:', 0.1024498483740074)\n"
     ]
    },
    {
     "data": {
      "text/plain": [
       "0.10873663371277811"
      ]
     },
     "execution_count": 8,
     "metadata": {},
     "output_type": "execute_result"
    }
   ],
   "source": [
    "#4 e 4\n",
    "trainer.trainEpochs(1000)\n",
    "\n",
    "teste = SupervisedDataSet(3, 1)\n",
    "\n",
    "teste.addSample([0,0,0],[0])\n",
    "teste.addSample([0,0,1],[1])\n",
    "teste.addSample([0,1,0],[1])\n",
    "teste.addSample([0,1,1],[0])\n",
    "teste.addSample([1,0,0],[1])\n",
    "teste.addSample([1,0,1],[0])\n",
    "teste.addSample([1,1,0],[0])\n",
    "teste.addSample([1,1,1],[1])\n",
    "\n",
    "trainer.testOnData(teste,verbose= True)"
   ]
  },
  {
   "cell_type": "code",
   "execution_count": 11,
   "metadata": {},
   "outputs": [
    {
     "name": "stdout",
     "output_type": "stream",
     "text": [
      "\n",
      "Testing on data:\n",
      "('out:    ', '[0     ]')\n",
      "('correct:', '[0     ]')\n",
      "error:  0.00000000\n",
      "('out:    ', '[1     ]')\n",
      "('correct:', '[1     ]')\n",
      "error:  0.00000000\n",
      "('out:    ', '[1     ]')\n",
      "('correct:', '[1     ]')\n",
      "error:  0.00000000\n",
      "('out:    ', '[0     ]')\n",
      "('correct:', '[0     ]')\n",
      "error:  0.00000000\n",
      "('out:    ', '[1     ]')\n",
      "('correct:', '[1     ]')\n",
      "error:  0.00000000\n",
      "('out:    ', '[0     ]')\n",
      "('correct:', '[0     ]')\n",
      "error:  0.00000000\n",
      "('out:    ', '[0     ]')\n",
      "('correct:', '[0     ]')\n",
      "error:  0.00000000\n",
      "('out:    ', '[1     ]')\n",
      "('correct:', '[1     ]')\n",
      "error:  0.00000000\n",
      "('All errors:', [5.699949980698143e-11, 1.821845272480015e-11, 5.15506477715024e-11, 5.406426291199946e-11, 2.2875649906942702e-10, 2.7865107964837386e-10, 4.203484242592758e-11, 2.8865205574331017e-10])\n",
      "('Average error:', 1.2736591751279024e-10)\n",
      "('Max error:', 2.8865205574331017e-10, 'Median error:', 5.699949980698143e-11)\n"
     ]
    },
    {
     "data": {
      "text/plain": [
       "1.2736591751279024e-10"
      ]
     },
     "execution_count": 11,
     "metadata": {},
     "output_type": "execute_result"
    }
   ],
   "source": [
    "#6 e 6\n",
    "trainer.trainEpochs(1000)\n",
    "\n",
    "teste = SupervisedDataSet(3, 1)\n",
    "\n",
    "teste.addSample([0,0,0],[0])\n",
    "teste.addSample([0,0,1],[1])\n",
    "teste.addSample([0,1,0],[1])\n",
    "teste.addSample([0,1,1],[0])\n",
    "teste.addSample([1,0,0],[1])\n",
    "teste.addSample([1,0,1],[0])\n",
    "teste.addSample([1,1,0],[0])\n",
    "teste.addSample([1,1,1],[1])\n",
    "\n",
    "trainer.testOnData(teste,verbose= True)"
   ]
  },
  {
   "cell_type": "code",
   "execution_count": 13,
   "metadata": {},
   "outputs": [
    {
     "name": "stdout",
     "output_type": "stream",
     "text": [
      "\n",
      "Testing on data:\n",
      "('out:    ', '[0.002 ]')\n",
      "('correct:', '[0     ]')\n",
      "error:  0.00000122\n",
      "('out:    ', '[0.999 ]')\n",
      "('correct:', '[1     ]')\n",
      "error:  0.00000021\n",
      "('out:    ', '[1     ]')\n",
      "('correct:', '[1     ]')\n",
      "error:  0.00000000\n",
      "('out:    ', '[0     ]')\n",
      "('correct:', '[0     ]')\n",
      "error:  0.00000000\n",
      "('out:    ', '[0.997 ]')\n",
      "('correct:', '[1     ]')\n",
      "error:  0.00000425\n",
      "('out:    ', '[0.004 ]')\n",
      "('correct:', '[0     ]')\n",
      "error:  0.00000942\n",
      "('out:    ', '[0.001 ]')\n",
      "('correct:', '[0     ]')\n",
      "error:  0.00000112\n",
      "('out:    ', '[1     ]')\n",
      "('correct:', '[1     ]')\n",
      "error:  0.00000000\n",
      "('All errors:', [1.2225450842010395e-06, 2.133013127150303e-07, 3.5736844317432397e-12, 4.3453394041496883e-10, 4.249653675613047e-06, 9.419639480373493e-06, 1.1204381489744998e-06, 1.3036855108609118e-10])\n",
      "('Average error:', 2.02826827225663e-06)\n",
      "('Max error:', 9.419639480373493e-06, 'Median error:', 1.1204381489744998e-06)\n"
     ]
    },
    {
     "data": {
      "text/plain": [
       "2.02826827225663e-06"
      ]
     },
     "execution_count": 13,
     "metadata": {},
     "output_type": "execute_result"
    }
   ],
   "source": [
    "#6 neuronios sem camada secundaria\n",
    "trainer.trainEpochs(1000)\n",
    "\n",
    "teste = SupervisedDataSet(3, 1)\n",
    "\n",
    "teste.addSample([0,0,0],[0])\n",
    "teste.addSample([0,0,1],[1])\n",
    "teste.addSample([0,1,0],[1])\n",
    "teste.addSample([0,1,1],[0])\n",
    "teste.addSample([1,0,0],[1])\n",
    "teste.addSample([1,0,1],[0])\n",
    "teste.addSample([1,1,0],[0])\n",
    "teste.addSample([1,1,1],[1])\n",
    "\n",
    "trainer.testOnData(teste,verbose= True)"
   ]
  },
  {
   "cell_type": "code",
   "execution_count": null,
   "metadata": {},
   "outputs": [],
   "source": []
  }
 ],
 "metadata": {
  "kernelspec": {
   "display_name": "Python 3",
   "language": "python",
   "name": "python3"
  },
  "language_info": {
   "codemirror_mode": {
    "name": "ipython",
    "version": 3
   },
   "file_extension": ".py",
   "mimetype": "text/x-python",
   "name": "python",
   "nbconvert_exporter": "python",
   "pygments_lexer": "ipython3",
   "version": "3.6.2"
  }
 },
 "nbformat": 4,
 "nbformat_minor": 2
}
