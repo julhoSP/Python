{
 "cells": [
  {
   "cell_type": "code",
   "execution_count": 40,
   "metadata": {
    "scrolled": true
   },
   "outputs": [
    {
     "name": "stdout",
     "output_type": "stream",
     "text": [
      "Teste\n",
      "A1: 15\n",
      "A3: 13\n",
      "1947191408\n",
      "1947191344\n"
     ]
    }
   ],
   "source": [
    "print('Teste')\n",
    "#Variaveis devem começar com uma Letra Obrigatoriamente\n",
    "a1 = 1\n",
    "#Causa Erro pois como dito acima devem começar com char\n",
    "    #1 = a\n",
    "#As variaveis não podem ter espaços em branco \n",
    "    #media aluno = 12\n",
    "#Não é necessario tipar a variavel\n",
    "#Em python tudo é objeto, ou seja tudo pode ser tratado como objeto\n",
    "#Quando assinala uma variavel a um valor você esta colocando rotulo\n",
    "\n",
    "#provando que lidamos com rotulos que identificam objetos\n",
    "#Os objetos existem antes das variaveis, ou seja\n",
    "a3 = 15\n",
    "#primeiro executa o 15 depois assinala o rotulo \"a3\" ao 15\n",
    "a1 = a3\n",
    "a3 = a3 - 2\n",
    "print('A1: %d'%a1)\n",
    "print('A3: %d'%a3)\n",
    "#como a1 não se referencia ao a3 e sim ao objeto 15 mudar a3 \n",
    "#não modifica a1\n",
    "print(id(a1))\n",
    "print(id(a3))"
   ]
  },
  {
   "cell_type": "code",
   "execution_count": 14,
   "metadata": {},
   "outputs": [
    {
     "name": "stdout",
     "output_type": "stream",
     "text": [
      "False\n",
      "True\n"
     ]
    }
   ],
   "source": [
    "                    #Operadores relacionais\n",
    "# == Igualdade\n",
    "# > Maior que\n",
    "# < Menor que\n",
    "# != Diferente\n",
    "# >= Maior ou igual\n",
    "# <= Menor ou Igual\n",
    "#O resulta de de uma comparação é um tipo lógico, True ou False\n",
    "\n",
    "n1 = 10\n",
    "n2 = 20\n",
    "print(n1 > n2)\n",
    "print(n1 < n2)\n",
    "\n",
    "                    #Operadores Matematicos\n",
    "# + Soma\n",
    "# - Subtracao\n",
    "# * Multiplicacao\n",
    "# / Divisao\n",
    "# // Divisao por intera, despresa numeros depois da ,\n",
    "# % Capta somente o \"resto\" da divisao\n",
    "# ** Potenciação\n",
    "                    #Operadores Logicos\n",
    "#not -  Negação\n",
    "#and - e\n",
    "#or - ou"
   ]
  },
  {
   "cell_type": "code",
   "execution_count": 22,
   "metadata": {},
   "outputs": [
    {
     "name": "stdout",
     "output_type": "stream",
     "text": [
      "J\n",
      "o\n",
      "5\n",
      "o\n",
      "J\n",
      "Julio Pinto\n",
      "JulioJulioJulio\n",
      "Eu sou Julio Pinto,e estou aprendendo Python\n"
     ]
    }
   ],
   "source": [
    "                    #Variaveis String\n",
    "#Imaginar uma String como uma sequencia de characters\n",
    "#onde \"\" ou '' determinam o inicio e fim dessa sequencia\n",
    "nome = 'Julio'\n",
    "print(nome[0])\n",
    "#Importante notar que você pode conseguir partes separadas\n",
    "# dessa string, usando o 0 pegamos a 1° letra, com -1 a ultima\n",
    "print(nome[-1])\n",
    "#Para saber o tamanho de uma str(String) usando o len\n",
    "print(len(nome))\n",
    "#Importante notar que a indexação é a partir do 0, a str é um\n",
    "# objeto imutavel\n",
    "#É possivel fatiar a str utilizando : e indices iniciais e final\n",
    "print(nome[-1:]) #Intervalo aberto\n",
    "print(nome[0:1]) #Intervalo fechado\n",
    "#Para concaternar uma string é possivel utilizar os metodos\n",
    "# matematicos\n",
    "sobrenome = 'Pinto'\n",
    "print(nome +' '+sobrenome)\n",
    "print(nome*3)\n",
    "#Podemos utilizar o % para substituir coisas\n",
    "print('Eu sou %s %s,e estou aprendendo Python'%(nome,sobrenome))\n",
    "#'s' String\n",
    "#'d' Inteiro\n",
    "#'f' Float, .2f limita o numero de casas decimais para 2"
   ]
  },
  {
   "cell_type": "code",
   "execution_count": 25,
   "metadata": {},
   "outputs": [
    {
     "name": "stdout",
     "output_type": "stream",
     "text": [
      "Digite a sua idade: 15\n",
      "15151515151515151515\n",
      "<class 'str'>\n",
      "Sua idade: 5\n",
      "50\n",
      "<class 'int'>\n"
     ]
    }
   ],
   "source": [
    "                    #Realizando Entrada de dados\n",
    "idade = input('Digite a sua idade: ')\n",
    "#A função input é utilizada para receber dados do usuario, porém\n",
    "#é recebido como str se realizarmos operações dará erro\n",
    "#por isso utilizamos float, ou int para converter os dados\n",
    "print(idade * 10)\n",
    "print(type(idade))\n",
    "idade = int(input('Sua idade: '))\n",
    "print(idade * 10)\n",
    "print(type(idade))"
   ]
  },
  {
   "cell_type": "code",
   "execution_count": 28,
   "metadata": {},
   "outputs": [
    {
     "name": "stdout",
     "output_type": "stream",
     "text": [
      "Qual a sua idade18\n",
      "Maior de idade\n",
      "Adulto\n"
     ]
    }
   ],
   "source": [
    "                #Estruturas Condicionais\n",
    "#Condições sigerem quando algo deve acontecer dependo de uma\n",
    "# condição pré-estabelecida\n",
    "idade = int(input('Qual a sua idade'))\n",
    "if idade>= 18:\n",
    "    print('Maior de idade')\n",
    "else:\n",
    "    print('De menor')\n",
    "#Python é uma linguagem totalmente identada, se um bloco não\n",
    "#estiver identado ele não funcionará corretamente\n",
    "#Python utiliza somente o espaçamente a direta para demarcar\n",
    "# um bloco\n",
    "\n",
    "if idade >= 18:\n",
    "    if idade >= 60:\n",
    "        print('Idoso')\n",
    "    else:\n",
    "        print('Adulto')\n",
    "elif idade >= 16:\n",
    "    print('Já da pra criar')\n",
    "else:\n",
    "    print('De menor')"
   ]
  },
  {
   "cell_type": "code",
   "execution_count": 46,
   "metadata": {
    "scrolled": true
   },
   "outputs": [
    {
     "name": "stdout",
     "output_type": "stream",
     "text": [
      "1 2 3 4 5 6 7 8 9 10 12 14 16 18 20 22 24 26 28 30 32 34 36 38 40 42 44 46 48 50 52 54 56 58 60 62 64 66 68 70 72 74 76 78 80 82 84 86 88 90 92 94 96 98 0\n",
      "1\n",
      "2\n"
     ]
    }
   ],
   "source": [
    "                    #Estruturas de Repeticao\n",
    "#Estruturas de repeticao são utilizadas para quando queremos\n",
    "# realizar a mesma operacao inumeras vezes, como por exemplo\n",
    "# contar até 10.\n",
    "# poderiamos realizar 1 print para cara numero porem para\n",
    "# simplificar usaremos o \"while\"\n",
    "count = 1 #variavel contadora\n",
    "while count <= 10:\n",
    "    print(count, end=' ')\n",
    "    count += 1\n",
    "#Ficara no \"while\" enquando a pre estabelecida for \n",
    "# condicao é verdadeira, ou pelo \"break\"\n",
    "\n",
    "#Podemos mesclar inclusive, com outras operacoes como condicao\n",
    "while True:\n",
    "    if count % 2 == 0:\n",
    "        print(count, end=' ')\n",
    "    count += 1\n",
    "    if count == 100:\n",
    "        break\n",
    "#Podemos utilizar uma estrutura dentro de outra tambem\n",
    "\n",
    "#Estrutura de repeticao \"for\"\n",
    "for e in range(0,3):\n",
    "    print(e)\n",
    "#O comando \"range\" delimita o < valor aonde a nossa variavel vai\n",
    "# utilizando \"range\"(\"inicio\",fim,salto)"
   ]
  },
  {
   "cell_type": "code",
   "execution_count": 48,
   "metadata": {
    "scrolled": true
   },
   "outputs": [
    {
     "name": "stdout",
     "output_type": "stream",
     "text": [
      "[1, 'Julio', 5.4, ['Julio', 'Pinto']]\n",
      "1\n",
      "['Mudou mesmo', 'Julio', 5.4, ['Julio', 'Pinto']]\n",
      "Julio Pinto\n",
      "['Julio', 'Julio', 5.4, ['Julio', 'Pinto']]\n",
      "['Mudou mesmo', 'Julio', 5.4, ['Julio', 'Pinto']]\n",
      "['Mudou mesmo', 'Julio', 5.4, ['Julio', 'Pinto'], 'Só Vai']\n",
      "['Mudou mesmo', 'Julio', 5.4, ['Julio', 'Pinto']]\n",
      "['Mudou mesmo', 'Julio', ['Julio', 'Pinto']]\n",
      "Acho\n"
     ]
    }
   ],
   "source": [
    "                        #Listas\n",
    "#Tipo de variavel que permite o armazenamento de varios valores\n",
    "# uma lista é definida por \"[]\" os elementos são separados por \",\"\n",
    "lista = [1,'Julio',5.4,['Julio','Pinto']]\n",
    "#As listas em Python são hetorogenas, aceitam varios tipos,\n",
    "# inclusive listas\n",
    "print(lista)\n",
    "#Listas são mutaveis então qualquer elemento pode ser mutavel\n",
    "print(lista[0])\n",
    "lista[0] = 'Mudou mesmo'\n",
    "print(lista)\n",
    "#Podemos acessar a lista dentro de outra lista atraves do mesmo \n",
    "# comando\n",
    "print(lista[-1][0] +' '+lista[-1][1])\n",
    "#Para realizarmos uma copia de listas temos que utilizar o comando\n",
    "lista2 = lista[:]\n",
    "lista2[0] = 'Julio'\n",
    "print(lista2)\n",
    "print(lista)\n",
    "#O Medoto insere um elemento ao final da lista\n",
    "lista.append('Só Vai')\n",
    "print(lista)\n",
    "#Para remover um elemento é só utilizar o metodo pop que remove \n",
    "# pelo indice\n",
    "lista.pop(-1)\n",
    "print(lista)\n",
    "#Para remover por decricao do elemento utilize o .remove()\n",
    "lista.remove(5.4)\n",
    "print(lista)\n",
    "#Para buscarmos um elementos podemos utilizar o for\n",
    "busca = 'Julio'\n",
    "for i in lista:\n",
    "    if i == busca:\n",
    "        print('Acho')\n",
    "        break #Se achou não precisamos continuar procurando\n"
   ]
  },
  {
   "cell_type": "code",
   "execution_count": 55,
   "metadata": {},
   "outputs": [
    {
     "name": "stdout",
     "output_type": "stream",
     "text": [
      "(1, 'Julio', 3)\n",
      "3\n",
      "('Julio', 3)\n",
      "4\n",
      "1\n",
      "4\n"
     ]
    }
   ],
   "source": [
    "                    #Tuplas\n",
    "#Tuplas é um objeto imutavel, não podemos realizar motificações\n",
    "# apos a sua criação, tupla é heterogenea\n",
    "\n",
    "tupla = (1,'Julio',3)\n",
    "print(tupla)\n",
    "#Acesso aos elementos é igual ao de lista\n",
    "print(tupla[-1])\n",
    "print(tupla[1:])\n",
    "#Podemos contar elementos atraves do metodo count\n",
    "conta = (1,1,1,1,2,2,'Julio')\n",
    "print(conta.count(1))\n",
    "print(conta.count('Julio'))\n",
    "#Podemos tambem descobiri os indexes de elementos,\n",
    "# caso possua elementos repitidos retorna o primeiro que encontrar\n",
    "print(conta.index(2))"
   ]
  },
  {
   "cell_type": "code",
   "execution_count": 66,
   "metadata": {},
   "outputs": [
    {
     "name": "stdout",
     "output_type": "stream",
     "text": [
      "{10, 20, 30}\n",
      "{1, 3, 20, 10, 30}\n",
      "{10, 20}\n",
      "{30}\n",
      "[1, 1, 1, 1, 2, 2, 3, 5, 5, 5, 5, 6, 4]\n",
      "{1, 2, 3, 4, 5, 6}\n"
     ]
    }
   ],
   "source": [
    "                    #Conjuntos ou Sets\n",
    "#Utilizados para representar estruturas desordenadas de elementos\n",
    "# unicos, ele é armazenado em uma ordem confusa, conjuntos não\n",
    "# suportam idexação ou fatiamento\n",
    "#Podemos criar por 2 maneiras atraves de \"set()\" ou {}\n",
    "s = set()\n",
    "s.add(10)\n",
    "s.add(20)\n",
    "s.add(30)\n",
    "s.add(10)\n",
    "print(s)\n",
    "\n",
    "#Podemos utilizar algumas operações em conjuntos como União\n",
    "# Interseção e diferença\n",
    "\n",
    "s2 = {10,20,1,3}\n",
    "print(s.union(s2)) #Uni os elementos nos dois conjuntos\n",
    "print(s.intersection(s2))\n",
    "print(s.difference(s2))# elementos diferentes de s no s2\n",
    "#Os conjuntos podem eliminar de maneira eficiente elementos\n",
    "# repitidos em listas\n",
    "lista = [1,1,1,1,2,2,3,5,5,5,5,6,4]\n",
    "lista_unica = set(lista) #Passamos a lista como parametro do set()\n",
    "print(lista)\n",
    "print(lista_unica)"
   ]
  },
  {
   "cell_type": "code",
   "execution_count": 76,
   "metadata": {},
   "outputs": [
    {
     "name": "stdout",
     "output_type": "stream",
     "text": [
      "{'Julio': 21, 'Bruno': 25, 'Lucas': 19}\n",
      "21\n",
      "{'Julio': 21, 'Bruno': 25, 'Lucas': 20}\n",
      "{'Julio': 21, 'Bruno': 25, 'Lucas': 20, 'Nat': 21}\n",
      "dict_items([('Julio', 21), ('Bruno', 25), ('Lucas', 20), ('Nat', 21)])\n",
      "dict_keys(['Julio', 'Bruno', 'Lucas', 'Nat'])\n",
      "dict_values([21, 25, 20, 21])\n",
      "True\n"
     ]
    }
   ],
   "source": [
    "                    #Dicionarios\n",
    "#Um diciorio é como uma lista, é um conjunto de dados\n",
    "# que estão relacionados a chaves e valores\n",
    "d = {'Julio':21,'Bruno':25,'Lucas':19}\n",
    "print(d)\n",
    "#Para acessar um valor é necessario saber a chave\n",
    "print(d['Julio'])\n",
    "#Se a chave que você esta inserindo existe ela modificará o valor \n",
    "# relacionado, caso não exista ele irá incluir\n",
    "d['Lucas'] = 20\n",
    "print(d)\n",
    "d['Nat'] = 21\n",
    "print(d)\n",
    "#Podemos saber quais itens possuimos em um dicionario atraves de \n",
    "# algumas funções\n",
    "print(d.items())\n",
    "#tambem as chaves que existem\n",
    "print(d.keys())\n",
    "# e os valores\n",
    "print(d.values())\n",
    "# podemos verificar se uma chave existe em um dicionario\n",
    "print('Nat' in d) # metodo bolleano"
   ]
  },
  {
   "cell_type": "code",
   "execution_count": 1,
   "metadata": {},
   "outputs": [
    {
     "name": "stdout",
     "output_type": "stream",
     "text": [
      "3\n",
      "23\n",
      "Hello World\n",
      "24\n",
      "8\n"
     ]
    }
   ],
   "source": [
    "                    #Criando funções\n",
    "#Criações de funções é essencial para a programação, criar nossas\n",
    "# proprias funções facilita a manutenção e temos resuabilidade de\n",
    "# um codigo\n",
    "#Funções são objetos como todos os demais itens no universo\n",
    "# de python\n",
    "\n",
    "def soma(n1,n2):\n",
    "    return n1 + n2\n",
    "print(soma(1,2))\n",
    "\n",
    "#Com o def é podemos ter funçoes e \n",
    "# procedimentos(Não recebem parametros)\n",
    "#Caso não sabemos o numero de argumentos que nossa função ira \n",
    "# receber podemos utilizar *args para captar todos os argumentos\n",
    "\n",
    "def somaIndefinida(*args): #Transforma lista em objetos\n",
    "    return sum(*args)\n",
    "print(somaIndefinida([1,2,3,4,5,8]))\n",
    "\n",
    "#Uma função tambem é um objeto então podemos mudar o rotulo\n",
    "imprimir = print\n",
    "imprimir('Hello World')\n",
    "\n",
    "#Temos tambem uma função recursiva\n",
    "def fat(n):\n",
    "    if n == 0 or n == 1:\n",
    "        return 1\n",
    "    return n*fat(n-1)\n",
    "print(fat(4))\n",
    "\n",
    "#valores default podemos definir o parametro para nossas funções\n",
    "# caso não seja passado um parametro\n",
    "def imprimir_nome(nome='Desconhecido'):\n",
    "    return nome\n",
    "#podemos utilizar funções sem nome chamadas lambda\n",
    "a = lambda x: x*2\n",
    "print(a(4))"
   ]
  },
  {
   "cell_type": "code",
   "execution_count": 2,
   "metadata": {},
   "outputs": [],
   "source": [
    "                    #Modulos\n",
    "    #Modulo é um arquivo .py, podendo importar utilizando o import\n",
    "    #Para utilizar as funções importadas é necessario que você chame o nome do import.função\n",
    "    #utilizando \"from\" e \"import\" você tira a necessidade de utilizar o nome do modulo\n",
    "    "
   ]
  },
  {
   "cell_type": "code",
   "execution_count": 13,
   "metadata": {},
   "outputs": [],
   "source": [
    "                    #Arquivos\n",
    "#Area em disco onde podemos e gravar informações\n",
    "#Utilizando a função open('Nome_Arquivo','Tipo_leitura')\n",
    "    #open('Nome_Arquivo','r') Leitura \n",
    "    #open('Nome_Arquivo','w') Escrita, apaga o conteudo existente\n",
    "    #open('Nome_Arquivo','a') Escrita, Preserva o conteudo existente\n",
    "    #open('Nome_Arquivo','b') Binario\n",
    "    #Com o operador + você combina as opções acima\n",
    "arq = open('arquivo.txt','w')\n",
    "arq.write('Machine Learning')\n",
    "arq.write('\\nAprendendo Python')\n",
    "arq.close()"
   ]
  },
  {
   "cell_type": "code",
   "execution_count": 15,
   "metadata": {},
   "outputs": [
    {
     "name": "stdout",
     "output_type": "stream",
     "text": [
      "Julio\n"
     ]
    }
   ],
   "source": [
    "                    #Orientação a objeto\n",
    "#Definição de classe class nome:\n",
    "class Pessoa:\n",
    "#Construtor def __init__(self,nome,idade) self é o proprio objeto como o this\n",
    "    def __init__(self, nome, idade):\n",
    "        self.nome = nome\n",
    "        self.idade = idade\n",
    "    \n",
    "#Chamando uma classe\n",
    "p = Pessoa('Julio',21)\n",
    "print(p.nome)\n",
    "\n",
    "#Herança\n",
    "class Pessoa_vip(Pessoa):\n",
    "    def __init__(self, nome,numero,limite=0):\n",
    "        Pessoa.__init__(self, nome, numero)\n",
    "        self.limete = limite"
   ]
  },
  {
   "cell_type": "code",
   "execution_count": 18,
   "metadata": {},
   "outputs": [
    {
     "name": "stdout",
     "output_type": "stream",
     "text": [
      "6\n",
      "[2, 4, 6, 8, 10]\n",
      "[2, 4, 6, 8, 10, 12, 14, 16, 18, 20]\n"
     ]
    }
   ],
   "source": [
    "                #Programação Funcional\n",
    "#lambda é utilizada a definir uma função anonima utilizando somente \n",
    "# uma expressão\n",
    "dobro = lambda x: x*2\n",
    "print(dobro(3))\n",
    "\n",
    "#filter recebe como parametro uma função e uma lista, e \n",
    "# retorna os elementos para quais a função é verdadeiro\n",
    "\n",
    "lista = [1,2,3,4,5,6,7,8,9,10]\n",
    "print(list(filter(lambda x: x % 2 ==0, lista)))\n",
    "\n",
    "#map recebe uma função e uma lista, e\n",
    "# calcula essa função para cada elemento\n",
    "print(list(map(lambda x: x*2, lista)))"
   ]
  },
  {
   "cell_type": "code",
   "execution_count": null,
   "metadata": {},
   "outputs": [],
   "source": []
  }
 ],
 "metadata": {
  "kernelspec": {
   "display_name": "Python 3",
   "language": "python",
   "name": "python3"
  },
  "language_info": {
   "codemirror_mode": {
    "name": "ipython",
    "version": 3
   },
   "file_extension": ".py",
   "mimetype": "text/x-python",
   "name": "python",
   "nbconvert_exporter": "python",
   "pygments_lexer": "ipython3",
   "version": "3.6.2"
  }
 },
 "nbformat": 4,
 "nbformat_minor": 2
}
