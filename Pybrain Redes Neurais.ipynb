{
 "cells": [
  {
   "cell_type": "code",
   "execution_count": 3,
   "metadata": {},
   "outputs": [],
   "source": [
    "#Rede feed Foward, sai da entrada e vai pra saida\n",
    "from pybrain.datasets import SupervisedDataSet\n",
    "from pybrain.tools.shortcuts import buildNetwork\n",
    "from pybrain.supervised import BackpropTrainer"
   ]
  },
  {
   "cell_type": "code",
   "execution_count": 4,
   "metadata": {},
   "outputs": [],
   "source": [
    "dataset = SupervisedDataSet(2,1) # 2 entradas 2 e 1 saida"
   ]
  },
  {
   "cell_type": "code",
   "execution_count": 6,
   "metadata": {},
   "outputs": [],
   "source": [
    "dataset.addSample([1,1],[0])\n",
    "dataset.addSample([1,0],[1])\n",
    "dataset.addSample([0,1],[1])\n",
    "dataset.addSample([0,0],[0])"
   ]
  },
  {
   "cell_type": "code",
   "execution_count": 7,
   "metadata": {},
   "outputs": [],
   "source": [
    "# passagem do tamanho da camada de entrada .indim é o tamanho \n",
    "network = buildNetwork(dataset.indim, 4, dataset.outdim, bias= True)"
   ]
  },
  {
   "cell_type": "code",
   "execution_count": 8,
   "metadata": {},
   "outputs": [],
   "source": [
    "#Parametros \n",
    "trainer = BackpropTrainer(network,dataset, learningrate= 0.01, momentum=0.9)"
   ]
  },
  {
   "cell_type": "code",
   "execution_count": 9,
   "metadata": {},
   "outputs": [
    {
     "data": {
      "text/plain": [
       "'Uma forma mais facil é trainer.trainEpochs(1000)\\n    treinar até a convergencia trainer.trainUntilConvergence\\n'"
      ]
     },
     "execution_count": 9,
     "metadata": {},
     "output_type": "execute_result"
    }
   ],
   "source": [
    "for epoch in range(1000):#treina por 1000 epocas\n",
    "    trainer.train()\n",
    "'''Uma forma mais facil é trainer.trainEpochs(1000)\n",
    "    treinar até a convergencia trainer.trainUntilConvergence\n",
    "'''"
   ]
  },
  {
   "cell_type": "code",
   "execution_count": 10,
   "metadata": {},
   "outputs": [],
   "source": [
    "test_data = SupervisedDataSet(2,1)\n",
    "test_data.addSample([1,1],[0])\n",
    "test_data.addSample([1,0],[1])\n",
    "test_data.addSample([0,1],[1])\n",
    "test_data.addSample([0,0],[0])"
   ]
  },
  {
   "cell_type": "code",
   "execution_count": 11,
   "metadata": {},
   "outputs": [
    {
     "name": "stdout",
     "output_type": "stream",
     "text": [
      "\n",
      "Testing on data:\n",
      "('out:    ', '[0     ]')\n",
      "('correct:', '[0     ]')\n",
      "error:  0.00000000\n",
      "('out:    ', '[1     ]')\n",
      "('correct:', '[1     ]')\n",
      "error:  0.00000000\n",
      "('out:    ', '[1     ]')\n",
      "('correct:', '[1     ]')\n",
      "error:  0.00000000\n",
      "('out:    ', '[0     ]')\n",
      "('correct:', '[0     ]')\n",
      "error:  0.00000000\n",
      "('All errors:', [1.8973769741926653e-12, 5.2007790597366794e-12, 2.398645917830163e-12, 2.575270329931563e-13])\n",
      "('Average error:', 2.438582246188166e-12)\n",
      "('Max error:', 5.2007790597366794e-12, 'Median error:', 2.398645917830163e-12)\n"
     ]
    },
    {
     "data": {
      "text/plain": [
       "2.438582246188166e-12"
      ]
     },
     "execution_count": 11,
     "metadata": {},
     "output_type": "execute_result"
    }
   ],
   "source": [
    "trainer.testOnData(test_data, verbose= True)"
   ]
  },
  {
   "cell_type": "code",
   "execution_count": null,
   "metadata": {},
   "outputs": [],
   "source": []
  }
 ],
 "metadata": {
  "kernelspec": {
   "display_name": "Python 3",
   "language": "python",
   "name": "python3"
  },
  "language_info": {
   "codemirror_mode": {
    "name": "ipython",
    "version": 3
   },
   "file_extension": ".py",
   "mimetype": "text/x-python",
   "name": "python",
   "nbconvert_exporter": "python",
   "pygments_lexer": "ipython3",
   "version": "3.6.2"
  }
 },
 "nbformat": 4,
 "nbformat_minor": 2
}
